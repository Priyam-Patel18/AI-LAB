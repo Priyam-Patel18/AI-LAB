{
  "nbformat": 4,
  "nbformat_minor": 0,
  "metadata": {
    "colab": {
      "name": "AI(LAB).ipynb",
      "provenance": [],
      "authorship_tag": "ABX9TyPOelLRy6lw2nHvCNG6dqc5",
      "include_colab_link": true
    },
    "kernelspec": {
      "name": "python3",
      "display_name": "Python 3"
    },
    "language_info": {
      "name": "python"
    }
  },
  "cells": [
    {
      "cell_type": "markdown",
      "metadata": {
        "id": "view-in-github",
        "colab_type": "text"
      },
      "source": [
        "<a href=\"https://colab.research.google.com/github/Priyam-Patel18/AI-LAB/blob/master/AI(LAB).ipynb\" target=\"_parent\"><img src=\"https://colab.research.google.com/assets/colab-badge.svg\" alt=\"Open In Colab\"/></a>"
      ]
    },
    {
      "cell_type": "markdown",
      "source": [
        "**PRACTICAL-1**\n",
        "\n",
        "---\n",
        "*   P-1: Write a python program to implement a multiplication table of the given number.\n",
        "*   P-2: Write a python program to check whether the given number is prime number or not.\n",
        "*   P-3: Write a python program to find the factorial of the given number."
      ],
      "metadata": {
        "id": "lvKkUC5vgd7J"
      }
    },
    {
      "cell_type": "code",
      "source": [
        "number = int(input (\"Enter the Number for multiplication table:\"))            \n",
        "number2 = int(input (\"Enter the Range:\"))\n",
        "print (\"The Multiplication Table of: \", number)    \n",
        "for count in range(1, number2+1):      \n",
        "   print (number, 'x', count, '=', number * count)    "
      ],
      "metadata": {
        "id": "ZEFnUA1NnPBU"
      },
      "execution_count": null,
      "outputs": []
    },
    {
      "cell_type": "code",
      "source": [
        "number = int(input(\"Enter any number: \"))\n",
        "\n",
        "# prime number is always greater than 1\n",
        "if number > 1:\n",
        "    for i in range(2, number):\n",
        "        if (number % i) == 0:\n",
        "            print(number, \"is not a prime number\")\n",
        "            break\n",
        "    else:\n",
        "        print(number, \"is a prime number\")\n",
        "\n",
        "# if the entered number is less than or equal to 1\n",
        "# then it is not prime number\n",
        "else:\n",
        "    print(number, \"is not a prime number\")"
      ],
      "metadata": {
        "id": "wVknacmajnzn"
      },
      "execution_count": null,
      "outputs": []
    },
    {
      "cell_type": "code",
      "source": [
        "num = int(input(\"Enter a number: \"))    \n",
        "factorial = 1    \n",
        "if num < 0:    \n",
        "   print(\" Factorial does not exist for negative numbers\")    \n",
        "elif num == 0:    \n",
        "   print(\"The factorial of 0 is 1\")    \n",
        "else:    \n",
        "   for i in range(1,num + 1):    \n",
        "       factorial = factorial*i    \n",
        "   print(\"The factorial of\",num,\"is\",factorial)    "
      ],
      "metadata": {
        "id": "WRW6OA8aljbz"
      },
      "execution_count": null,
      "outputs": []
    }
  ]
}